{
  "nbformat": 4,
  "nbformat_minor": 0,
  "metadata": {
    "colab": {
      "provenance": [],
      "authorship_tag": "ABX9TyMKwZwb7Ovsz+OdD/k5FQia"
    },
    "kernelspec": {
      "name": "python3",
      "display_name": "Python 3"
    },
    "language_info": {
      "name": "python"
    }
  },
  "cells": [
    {
      "cell_type": "markdown",
      "source": [
        "Section 2 of my self-made machine learning course: Data cleaning, engineering, and visualization by structuring, preprocessing, and using EDA techniques. Using matplotlib and seaborn for visualization. Using the kaggle Cars4U dataset and the Titanic dataset. https://www.kaggle.com/datasets/sukhmanibedi/cars4u ,"
      ],
      "metadata": {
        "id": "VPYpngbydZ_0"
      }
    },
    {
      "cell_type": "code",
      "execution_count": 17,
      "metadata": {
        "id": "ghOByrPKdDGB"
      },
      "outputs": [],
      "source": [
        "import pandas as pd\n",
        "import numpy as np\n",
        "import matplotlib.pyplot as plt\n",
        "import seaborn as sns\n",
        "from datetime import date"
      ]
    },
    {
      "cell_type": "code",
      "source": [
        "#reading using pd dataframe\n",
        "data = pd.read_csv(\"used_cars_data.csv\")\n",
        "\n",
        "#get the shape of the data (rows by cols)\n",
        "rows, cols = data.shape\n",
        "print(rows, \"rows/entries\")\n",
        "print(cols, \"columns/labels\")\n",
        "\n",
        "#head shows the first 5 entries\n",
        "# data.head()\n",
        "\n",
        "#tail shows the last 5 entries\n",
        "# data.tail()\n",
        "\n",
        "#get information about our data like labels data type and memory usage, etc\n",
        "# data.info()\n",
        "\n",
        "#get information about similarities along different axis in the dataset, in this case comparing entries in each col\n",
        "data.nunique()\n",
        "\n",
        "#sum the null (empty) elements in for each col, can also do as percentage\n",
        "data.isnull().sum()\n",
        "(data.isnull().sum()/(len(data)))*100 #Here we see that there is a lot of data missing about prices making this a potential dependent variable to try and predict\n",
        "\n",
        "#Lets drop serial number, not influential on the price\n",
        "data = data.drop([\"S.No.\"], axis=1)\n",
        "\n",
        "#lets now change and add some features, first add car age, insert after year\n",
        "data.insert(3, \"Age_(Yrs)\", date.today().year - data.Year)\n",
        "\n",
        "#now break the car name into model and make and insert at front\n",
        "data.insert(0, \"Model\", data.Name.str.split().str.get(1) + data.Name.str.split().str.get(2)) #first two words are sufficient\n",
        "data.insert(0, \"Make\", data.Name.str.split().str.get(0)) #first two words are sufficient\n",
        "\n",
        "#now drop the old name\n",
        "data = data.drop([\"Name\"], axis=1)\n",
        "\n",
        "#now search for anything weird within data that might need to be fixed before EDA, here checking brands\n",
        "# print(data.Make.unique())\n",
        "# print(data.Make.nunique())\n",
        "\n",
        "\n",
        "#fix mini cooper, land rover, and isuzu brands\n",
        "data[\"Make\"].replace({\"ISUZU\": \"Isuzu\", \"Mini\": \"Mini Cooper\",\"Land\":\"Land Rover\"}, inplace=True)\n",
        "\n",
        "#now model\n",
        "# now that we added rover and cooper to make, should remove from model:\n",
        "data[\"Model\"] = data[\"Model\"].str.replace(\"Cooper\", \"\")\n",
        "data[\"Model\"] = data[\"Model\"].str.replace(\"Rover\", \"\")\n",
        "\n",
        "#EDA\n",
        "\n",
        "#get general stats about the dataset\n",
        "data.describe()\n",
        "data.describe(include='all').T\n",
        "\n",
        "#seperate numerical and categorical cols\n",
        "categorical=data.select_dtypes(include=['object']).columns\n",
        "numerical = data.select_dtypes(include=np.number).columns.tolist()\n",
        "print(\"Categorical Variables:\")\n",
        "print(categorical)\n",
        "print(\"Numerical Variables:\")\n",
        "print(numerical)\n",
        "\n",
        "# data.head()\n",
        "\n"
      ],
      "metadata": {
        "colab": {
          "base_uri": "https://localhost:8080/"
        },
        "id": "C50s8X7eex9E",
        "outputId": "178695d9-3234-400b-f5d5-eba23eb0f6ab"
      },
      "execution_count": 62,
      "outputs": [
        {
          "output_type": "stream",
          "name": "stdout",
          "text": [
            "7253 rows/entries\n",
            "14 columns/labels\n",
            "Categorical Variables:\n",
            "Index(['Make', 'Model', 'Location', 'Fuel_Type', 'Transmission', 'Owner_Type',\n",
            "       'Mileage', 'Engine', 'Power', 'New_Price'],\n",
            "      dtype='object')\n",
            "Numerical Variables:\n",
            "['Year', 'Age_(Yrs)', 'Kilometers_Driven', 'Seats', 'Price']\n"
          ]
        }
      ]
    },
    {
      "cell_type": "code",
      "source": [],
      "metadata": {
        "id": "Hb59zgq1rA1D"
      },
      "execution_count": null,
      "outputs": []
    }
  ]
}